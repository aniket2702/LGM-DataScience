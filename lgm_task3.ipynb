{
  "nbformat": 4,
  "nbformat_minor": 0,
  "metadata": {
    "colab": {
      "name": "lgm_task3.ipynb",
      "provenance": [],
      "authorship_tag": "ABX9TyPHqkmVr9UFT0NOK2PvLxDQ",
      "include_colab_link": true
    },
    "kernelspec": {
      "name": "python3",
      "display_name": "Python 3"
    },
    "language_info": {
      "name": "python"
    }
  },
  "cells": [
    {
      "cell_type": "markdown",
      "metadata": {
        "id": "view-in-github",
        "colab_type": "text"
      },
      "source": [
        "<a href=\"https://colab.research.google.com/github/aniket2702/LGM-DataScience/blob/main/lgm_task3.ipynb\" target=\"_parent\"><img src=\"https://colab.research.google.com/assets/colab-badge.svg\" alt=\"Open In Colab\"/></a>"
      ]
    },
    {
      "cell_type": "markdown",
      "source": [
        "# Stock Market Prediction using Stacked LSTM\n",
        "## Name- Aniket Sharma\n",
        "## Task 2(Beginner Level)- Stock Market Prediction and Forecasting using Stacked LSTM"
      ],
      "metadata": {
        "id": "3vSOGHQH-2PP"
      }
    },
    {
      "cell_type": "markdown",
      "source": [
        "### Data Preprocessing"
      ],
      "metadata": {
        "id": "_g9cw5EdEXJf"
      }
    },
    {
      "cell_type": "code",
      "execution_count": 1,
      "metadata": {
        "id": "Eqv8Sqhd4cIR"
      },
      "outputs": [],
      "source": [
        "# Importing the libraries\n",
        "import numpy as np\n",
        "import matplotlib.pyplot as plt\n",
        "import pandas as pd"
      ]
    },
    {
      "cell_type": "code",
      "source": [
        "# Importing the training set\n",
        "dataset_train = pd.read_csv('https://raw.githubusercontent.com/aniket2702/LGM-DataScience/main/NSE-TATAGLOBAL.csv')\n",
        "training_set = dataset_train.iloc[:, 1:2].values"
      ],
      "metadata": {
        "id": "H4rjcKsG59AD"
      },
      "execution_count": 2,
      "outputs": []
    },
    {
      "cell_type": "code",
      "source": [
        "dataset_train.head()"
      ],
      "metadata": {
        "colab": {
          "base_uri": "https://localhost:8080/",
          "height": 206
        },
        "id": "XQSVebv06CAg",
        "outputId": "1bdcd67e-4647-47c8-8cb0-9582610f559c"
      },
      "execution_count": 3,
      "outputs": [
        {
          "output_type": "execute_result",
          "data": {
            "text/plain": [
              "         Date    Open    High     Low    Last   Close  Total Trade Quantity  \\\n",
              "0  2018-09-28  234.05  235.95  230.20  233.50  233.75               3069914   \n",
              "1  2018-09-27  234.55  236.80  231.10  233.80  233.25               5082859   \n",
              "2  2018-09-26  240.00  240.00  232.50  235.00  234.25               2240909   \n",
              "3  2018-09-25  233.30  236.75  232.00  236.25  236.10               2349368   \n",
              "4  2018-09-24  233.55  239.20  230.75  234.00  233.30               3423509   \n",
              "\n",
              "   Turnover (Lacs)  \n",
              "0          7162.35  \n",
              "1         11859.95  \n",
              "2          5248.60  \n",
              "3          5503.90  \n",
              "4          7999.55  "
            ],
            "text/html": [
              "\n",
              "  <div id=\"df-0f2b7d8c-cd37-4627-a40f-5fcc42a722b5\">\n",
              "    <div class=\"colab-df-container\">\n",
              "      <div>\n",
              "<style scoped>\n",
              "    .dataframe tbody tr th:only-of-type {\n",
              "        vertical-align: middle;\n",
              "    }\n",
              "\n",
              "    .dataframe tbody tr th {\n",
              "        vertical-align: top;\n",
              "    }\n",
              "\n",
              "    .dataframe thead th {\n",
              "        text-align: right;\n",
              "    }\n",
              "</style>\n",
              "<table border=\"1\" class=\"dataframe\">\n",
              "  <thead>\n",
              "    <tr style=\"text-align: right;\">\n",
              "      <th></th>\n",
              "      <th>Date</th>\n",
              "      <th>Open</th>\n",
              "      <th>High</th>\n",
              "      <th>Low</th>\n",
              "      <th>Last</th>\n",
              "      <th>Close</th>\n",
              "      <th>Total Trade Quantity</th>\n",
              "      <th>Turnover (Lacs)</th>\n",
              "    </tr>\n",
              "  </thead>\n",
              "  <tbody>\n",
              "    <tr>\n",
              "      <th>0</th>\n",
              "      <td>2018-09-28</td>\n",
              "      <td>234.05</td>\n",
              "      <td>235.95</td>\n",
              "      <td>230.20</td>\n",
              "      <td>233.50</td>\n",
              "      <td>233.75</td>\n",
              "      <td>3069914</td>\n",
              "      <td>7162.35</td>\n",
              "    </tr>\n",
              "    <tr>\n",
              "      <th>1</th>\n",
              "      <td>2018-09-27</td>\n",
              "      <td>234.55</td>\n",
              "      <td>236.80</td>\n",
              "      <td>231.10</td>\n",
              "      <td>233.80</td>\n",
              "      <td>233.25</td>\n",
              "      <td>5082859</td>\n",
              "      <td>11859.95</td>\n",
              "    </tr>\n",
              "    <tr>\n",
              "      <th>2</th>\n",
              "      <td>2018-09-26</td>\n",
              "      <td>240.00</td>\n",
              "      <td>240.00</td>\n",
              "      <td>232.50</td>\n",
              "      <td>235.00</td>\n",
              "      <td>234.25</td>\n",
              "      <td>2240909</td>\n",
              "      <td>5248.60</td>\n",
              "    </tr>\n",
              "    <tr>\n",
              "      <th>3</th>\n",
              "      <td>2018-09-25</td>\n",
              "      <td>233.30</td>\n",
              "      <td>236.75</td>\n",
              "      <td>232.00</td>\n",
              "      <td>236.25</td>\n",
              "      <td>236.10</td>\n",
              "      <td>2349368</td>\n",
              "      <td>5503.90</td>\n",
              "    </tr>\n",
              "    <tr>\n",
              "      <th>4</th>\n",
              "      <td>2018-09-24</td>\n",
              "      <td>233.55</td>\n",
              "      <td>239.20</td>\n",
              "      <td>230.75</td>\n",
              "      <td>234.00</td>\n",
              "      <td>233.30</td>\n",
              "      <td>3423509</td>\n",
              "      <td>7999.55</td>\n",
              "    </tr>\n",
              "  </tbody>\n",
              "</table>\n",
              "</div>\n",
              "      <button class=\"colab-df-convert\" onclick=\"convertToInteractive('df-0f2b7d8c-cd37-4627-a40f-5fcc42a722b5')\"\n",
              "              title=\"Convert this dataframe to an interactive table.\"\n",
              "              style=\"display:none;\">\n",
              "        \n",
              "  <svg xmlns=\"http://www.w3.org/2000/svg\" height=\"24px\"viewBox=\"0 0 24 24\"\n",
              "       width=\"24px\">\n",
              "    <path d=\"M0 0h24v24H0V0z\" fill=\"none\"/>\n",
              "    <path d=\"M18.56 5.44l.94 2.06.94-2.06 2.06-.94-2.06-.94-.94-2.06-.94 2.06-2.06.94zm-11 1L8.5 8.5l.94-2.06 2.06-.94-2.06-.94L8.5 2.5l-.94 2.06-2.06.94zm10 10l.94 2.06.94-2.06 2.06-.94-2.06-.94-.94-2.06-.94 2.06-2.06.94z\"/><path d=\"M17.41 7.96l-1.37-1.37c-.4-.4-.92-.59-1.43-.59-.52 0-1.04.2-1.43.59L10.3 9.45l-7.72 7.72c-.78.78-.78 2.05 0 2.83L4 21.41c.39.39.9.59 1.41.59.51 0 1.02-.2 1.41-.59l7.78-7.78 2.81-2.81c.8-.78.8-2.07 0-2.86zM5.41 20L4 18.59l7.72-7.72 1.47 1.35L5.41 20z\"/>\n",
              "  </svg>\n",
              "      </button>\n",
              "      \n",
              "  <style>\n",
              "    .colab-df-container {\n",
              "      display:flex;\n",
              "      flex-wrap:wrap;\n",
              "      gap: 12px;\n",
              "    }\n",
              "\n",
              "    .colab-df-convert {\n",
              "      background-color: #E8F0FE;\n",
              "      border: none;\n",
              "      border-radius: 50%;\n",
              "      cursor: pointer;\n",
              "      display: none;\n",
              "      fill: #1967D2;\n",
              "      height: 32px;\n",
              "      padding: 0 0 0 0;\n",
              "      width: 32px;\n",
              "    }\n",
              "\n",
              "    .colab-df-convert:hover {\n",
              "      background-color: #E2EBFA;\n",
              "      box-shadow: 0px 1px 2px rgba(60, 64, 67, 0.3), 0px 1px 3px 1px rgba(60, 64, 67, 0.15);\n",
              "      fill: #174EA6;\n",
              "    }\n",
              "\n",
              "    [theme=dark] .colab-df-convert {\n",
              "      background-color: #3B4455;\n",
              "      fill: #D2E3FC;\n",
              "    }\n",
              "\n",
              "    [theme=dark] .colab-df-convert:hover {\n",
              "      background-color: #434B5C;\n",
              "      box-shadow: 0px 1px 3px 1px rgba(0, 0, 0, 0.15);\n",
              "      filter: drop-shadow(0px 1px 2px rgba(0, 0, 0, 0.3));\n",
              "      fill: #FFFFFF;\n",
              "    }\n",
              "  </style>\n",
              "\n",
              "      <script>\n",
              "        const buttonEl =\n",
              "          document.querySelector('#df-0f2b7d8c-cd37-4627-a40f-5fcc42a722b5 button.colab-df-convert');\n",
              "        buttonEl.style.display =\n",
              "          google.colab.kernel.accessAllowed ? 'block' : 'none';\n",
              "\n",
              "        async function convertToInteractive(key) {\n",
              "          const element = document.querySelector('#df-0f2b7d8c-cd37-4627-a40f-5fcc42a722b5');\n",
              "          const dataTable =\n",
              "            await google.colab.kernel.invokeFunction('convertToInteractive',\n",
              "                                                     [key], {});\n",
              "          if (!dataTable) return;\n",
              "\n",
              "          const docLinkHtml = 'Like what you see? Visit the ' +\n",
              "            '<a target=\"_blank\" href=https://colab.research.google.com/notebooks/data_table.ipynb>data table notebook</a>'\n",
              "            + ' to learn more about interactive tables.';\n",
              "          element.innerHTML = '';\n",
              "          dataTable['output_type'] = 'display_data';\n",
              "          await google.colab.output.renderOutput(dataTable, element);\n",
              "          const docLink = document.createElement('div');\n",
              "          docLink.innerHTML = docLinkHtml;\n",
              "          element.appendChild(docLink);\n",
              "        }\n",
              "      </script>\n",
              "    </div>\n",
              "  </div>\n",
              "  "
            ]
          },
          "metadata": {},
          "execution_count": 3
        }
      ]
    },
    {
      "cell_type": "code",
      "source": [
        "# Feature Scaling\n",
        "from sklearn.preprocessing import MinMaxScaler\n",
        "sc = MinMaxScaler(feature_range = (0, 1))\n",
        "training_set_scaled = sc.fit_transform(training_set)"
      ],
      "metadata": {
        "id": "wrE1pMvS6FKp"
      },
      "execution_count": 4,
      "outputs": []
    },
    {
      "cell_type": "code",
      "source": [
        "# Creating a data structure with 60 timesteps and 1 output\n",
        "X_train = []\n",
        "y_train = []\n",
        "for i in range(60, 2035):\n",
        "    X_train.append(training_set_scaled[i-60:i, 0])\n",
        "    y_train.append(training_set_scaled[i, 0])\n",
        "X_train, y_train = np.array(X_train), np.array(y_train)"
      ],
      "metadata": {
        "id": "CTNVF3Iq6iry"
      },
      "execution_count": 5,
      "outputs": []
    },
    {
      "cell_type": "code",
      "source": [
        "# Reshaping\n",
        "X_train = np.reshape(X_train, (X_train.shape[0], X_train.shape[1], 1))"
      ],
      "metadata": {
        "id": "4a8sxvQr7TgS"
      },
      "execution_count": 6,
      "outputs": []
    },
    {
      "cell_type": "markdown",
      "source": [
        "### Building RNN"
      ],
      "metadata": {
        "id": "YsKU2f_MEe24"
      }
    },
    {
      "cell_type": "code",
      "source": [
        "# Importing the Keras libraries and packages\n",
        "from keras.models import Sequential\n",
        "from keras.layers import Dense\n",
        "from keras.layers import LSTM\n",
        "from keras.layers import Dropout"
      ],
      "metadata": {
        "id": "sX86_4T27WCS"
      },
      "execution_count": 7,
      "outputs": []
    },
    {
      "cell_type": "code",
      "source": [
        "# Initialising the RNN\n",
        "regressor = Sequential()\n",
        "\n",
        "# Adding the first LSTM layer and some Dropout regularisation\n",
        "regressor.add(LSTM(units = 50, return_sequences = True, input_shape = (X_train.shape[1], 1)))\n",
        "regressor.add(Dropout(0.2))"
      ],
      "metadata": {
        "id": "8mE96_fi7YxA"
      },
      "execution_count": 8,
      "outputs": []
    },
    {
      "cell_type": "code",
      "source": [
        "# Adding a second LSTM layer and some Dropout regularisation\n",
        "regressor.add(LSTM(units = 50, return_sequences = True))\n",
        "regressor.add(Dropout(0.2))"
      ],
      "metadata": {
        "id": "ordmtAwB7bjR"
      },
      "execution_count": 9,
      "outputs": []
    },
    {
      "cell_type": "code",
      "source": [
        "# Adding a third LSTM layer and some Dropout regularisation\n",
        "regressor.add(LSTM(units = 50, return_sequences = True))\n",
        "regressor.add(Dropout(0.2))"
      ],
      "metadata": {
        "id": "ub2elvX67ev-"
      },
      "execution_count": 10,
      "outputs": []
    },
    {
      "cell_type": "code",
      "source": [
        "# Adding a fourth LSTM layer and some Dropout regularisation\n",
        "regressor.add(LSTM(units = 50))\n",
        "regressor.add(Dropout(0.2))"
      ],
      "metadata": {
        "id": "REtKSrTJ7hY_"
      },
      "execution_count": 11,
      "outputs": []
    },
    {
      "cell_type": "code",
      "source": [
        "# Adding the output layer\n",
        "regressor.add(Dense(units = 1))\n",
        "\n",
        "# Compiling the RNN\n",
        "regressor.compile(optimizer = 'adam', loss = 'mean_squared_error')\n",
        "\n",
        "# Fitting the RNN to the Training set\n",
        "regressor.fit(X_train, y_train, epochs = 100, batch_size = 32)"
      ],
      "metadata": {
        "colab": {
          "base_uri": "https://localhost:8080/"
        },
        "id": "_HBgnrCx7jpI",
        "outputId": "4a369ac4-9ee1-41d1-863e-4f19e2bf793a"
      },
      "execution_count": 12,
      "outputs": [
        {
          "output_type": "stream",
          "name": "stdout",
          "text": [
            "Epoch 1/100\n",
            "62/62 [==============================] - 15s 117ms/step - loss: 0.0102\n",
            "Epoch 2/100\n",
            "62/62 [==============================] - 7s 116ms/step - loss: 0.0030\n",
            "Epoch 3/100\n",
            "62/62 [==============================] - 7s 119ms/step - loss: 0.0026\n",
            "Epoch 4/100\n",
            "62/62 [==============================] - 8s 125ms/step - loss: 0.0025\n",
            "Epoch 5/100\n",
            "62/62 [==============================] - 7s 120ms/step - loss: 0.0024\n",
            "Epoch 6/100\n",
            "62/62 [==============================] - 8s 126ms/step - loss: 0.0023\n",
            "Epoch 7/100\n",
            "62/62 [==============================] - 7s 117ms/step - loss: 0.0022\n",
            "Epoch 8/100\n",
            "62/62 [==============================] - 7s 116ms/step - loss: 0.0020\n",
            "Epoch 9/100\n",
            "62/62 [==============================] - 7s 118ms/step - loss: 0.0022\n",
            "Epoch 10/100\n",
            "62/62 [==============================] - 7s 118ms/step - loss: 0.0020\n",
            "Epoch 11/100\n",
            "62/62 [==============================] - 7s 118ms/step - loss: 0.0017\n",
            "Epoch 12/100\n",
            "62/62 [==============================] - 7s 119ms/step - loss: 0.0019\n",
            "Epoch 13/100\n",
            "62/62 [==============================] - 7s 120ms/step - loss: 0.0018\n",
            "Epoch 14/100\n",
            "62/62 [==============================] - 7s 118ms/step - loss: 0.0015\n",
            "Epoch 15/100\n",
            "62/62 [==============================] - 7s 117ms/step - loss: 0.0020\n",
            "Epoch 16/100\n",
            "62/62 [==============================] - 7s 115ms/step - loss: 0.0014\n",
            "Epoch 17/100\n",
            "62/62 [==============================] - 7s 115ms/step - loss: 0.0014\n",
            "Epoch 18/100\n",
            "62/62 [==============================] - 7s 113ms/step - loss: 0.0015\n",
            "Epoch 19/100\n",
            "62/62 [==============================] - 7s 113ms/step - loss: 0.0014\n",
            "Epoch 20/100\n",
            "62/62 [==============================] - 7s 117ms/step - loss: 0.0012\n",
            "Epoch 21/100\n",
            "62/62 [==============================] - 8s 121ms/step - loss: 0.0014\n",
            "Epoch 22/100\n",
            "62/62 [==============================] - 7s 111ms/step - loss: 0.0012\n",
            "Epoch 23/100\n",
            "62/62 [==============================] - 7s 113ms/step - loss: 0.0014\n",
            "Epoch 24/100\n",
            "62/62 [==============================] - 7s 112ms/step - loss: 0.0012\n",
            "Epoch 25/100\n",
            "62/62 [==============================] - 7s 112ms/step - loss: 0.0012\n",
            "Epoch 26/100\n",
            "62/62 [==============================] - 7s 116ms/step - loss: 0.0012\n",
            "Epoch 27/100\n",
            "62/62 [==============================] - 7s 115ms/step - loss: 0.0013\n",
            "Epoch 28/100\n",
            "62/62 [==============================] - 7s 112ms/step - loss: 0.0011\n",
            "Epoch 29/100\n",
            "62/62 [==============================] - 7s 111ms/step - loss: 0.0013\n",
            "Epoch 30/100\n",
            "62/62 [==============================] - 7s 113ms/step - loss: 0.0011\n",
            "Epoch 31/100\n",
            "62/62 [==============================] - 7s 116ms/step - loss: 0.0011\n",
            "Epoch 32/100\n",
            "62/62 [==============================] - 7s 116ms/step - loss: 0.0011\n",
            "Epoch 33/100\n",
            "62/62 [==============================] - 7s 117ms/step - loss: 0.0011\n",
            "Epoch 34/100\n",
            "62/62 [==============================] - 7s 119ms/step - loss: 0.0011\n",
            "Epoch 35/100\n",
            "62/62 [==============================] - 7s 120ms/step - loss: 0.0011\n",
            "Epoch 36/100\n",
            "62/62 [==============================] - 7s 118ms/step - loss: 9.8510e-04\n",
            "Epoch 37/100\n",
            "62/62 [==============================] - 7s 119ms/step - loss: 9.5719e-04\n",
            "Epoch 38/100\n",
            "62/62 [==============================] - 7s 118ms/step - loss: 0.0011\n",
            "Epoch 39/100\n",
            "62/62 [==============================] - 7s 119ms/step - loss: 0.0010\n",
            "Epoch 40/100\n",
            "62/62 [==============================] - 7s 119ms/step - loss: 9.2834e-04\n",
            "Epoch 41/100\n",
            "62/62 [==============================] - 7s 117ms/step - loss: 8.4887e-04\n",
            "Epoch 42/100\n",
            "62/62 [==============================] - 7s 119ms/step - loss: 9.1904e-04\n",
            "Epoch 43/100\n",
            "62/62 [==============================] - 7s 118ms/step - loss: 8.9262e-04\n",
            "Epoch 44/100\n",
            "62/62 [==============================] - 7s 117ms/step - loss: 9.2033e-04\n",
            "Epoch 45/100\n",
            "62/62 [==============================] - 7s 120ms/step - loss: 0.0010\n",
            "Epoch 46/100\n",
            "62/62 [==============================] - 7s 120ms/step - loss: 0.0012\n",
            "Epoch 47/100\n",
            "62/62 [==============================] - 7s 120ms/step - loss: 8.1559e-04\n",
            "Epoch 48/100\n",
            "62/62 [==============================] - 7s 119ms/step - loss: 8.4689e-04\n",
            "Epoch 49/100\n",
            "62/62 [==============================] - 7s 118ms/step - loss: 8.3656e-04\n",
            "Epoch 50/100\n",
            "62/62 [==============================] - 7s 119ms/step - loss: 8.3689e-04\n",
            "Epoch 51/100\n",
            "62/62 [==============================] - 7s 120ms/step - loss: 7.7487e-04\n",
            "Epoch 52/100\n",
            "62/62 [==============================] - 7s 119ms/step - loss: 9.3847e-04\n",
            "Epoch 53/100\n",
            "62/62 [==============================] - 7s 119ms/step - loss: 7.0163e-04\n",
            "Epoch 54/100\n",
            "62/62 [==============================] - 7s 119ms/step - loss: 9.0837e-04\n",
            "Epoch 55/100\n",
            "62/62 [==============================] - 7s 120ms/step - loss: 8.2125e-04\n",
            "Epoch 56/100\n",
            "62/62 [==============================] - 7s 121ms/step - loss: 7.2127e-04\n",
            "Epoch 57/100\n",
            "62/62 [==============================] - 8s 121ms/step - loss: 7.3813e-04\n",
            "Epoch 58/100\n",
            "62/62 [==============================] - 7s 120ms/step - loss: 8.5337e-04\n",
            "Epoch 59/100\n",
            "62/62 [==============================] - 7s 118ms/step - loss: 7.9761e-04\n",
            "Epoch 60/100\n",
            "62/62 [==============================] - 7s 119ms/step - loss: 7.7413e-04\n",
            "Epoch 61/100\n",
            "62/62 [==============================] - 7s 121ms/step - loss: 8.1208e-04\n",
            "Epoch 62/100\n",
            "62/62 [==============================] - 7s 121ms/step - loss: 6.8816e-04\n",
            "Epoch 63/100\n",
            "62/62 [==============================] - 7s 119ms/step - loss: 8.1893e-04\n",
            "Epoch 64/100\n",
            "62/62 [==============================] - 7s 119ms/step - loss: 7.7388e-04\n",
            "Epoch 65/100\n",
            "62/62 [==============================] - 7s 120ms/step - loss: 7.0973e-04\n",
            "Epoch 66/100\n",
            "62/62 [==============================] - 8s 122ms/step - loss: 6.7844e-04\n",
            "Epoch 67/100\n",
            "62/62 [==============================] - 8s 122ms/step - loss: 7.1228e-04\n",
            "Epoch 68/100\n",
            "62/62 [==============================] - 7s 120ms/step - loss: 6.7668e-04\n",
            "Epoch 69/100\n",
            "62/62 [==============================] - 7s 119ms/step - loss: 7.4043e-04\n",
            "Epoch 70/100\n",
            "62/62 [==============================] - 7s 119ms/step - loss: 8.6151e-04\n",
            "Epoch 71/100\n",
            "62/62 [==============================] - 7s 121ms/step - loss: 8.1186e-04\n",
            "Epoch 72/100\n",
            "62/62 [==============================] - 7s 121ms/step - loss: 7.3103e-04\n",
            "Epoch 73/100\n",
            "62/62 [==============================] - 7s 119ms/step - loss: 8.0445e-04\n",
            "Epoch 74/100\n",
            "62/62 [==============================] - 7s 118ms/step - loss: 9.3099e-04\n",
            "Epoch 75/100\n",
            "62/62 [==============================] - 7s 119ms/step - loss: 6.1039e-04\n",
            "Epoch 76/100\n",
            "62/62 [==============================] - 7s 120ms/step - loss: 7.4956e-04\n",
            "Epoch 77/100\n",
            "62/62 [==============================] - 8s 123ms/step - loss: 6.7426e-04\n",
            "Epoch 78/100\n",
            "62/62 [==============================] - 8s 136ms/step - loss: 6.3906e-04\n",
            "Epoch 79/100\n",
            "62/62 [==============================] - 8s 136ms/step - loss: 7.3600e-04\n",
            "Epoch 80/100\n",
            "62/62 [==============================] - 8s 136ms/step - loss: 7.4129e-04\n",
            "Epoch 81/100\n",
            "62/62 [==============================] - 8s 136ms/step - loss: 7.3841e-04\n",
            "Epoch 82/100\n",
            "62/62 [==============================] - 8s 136ms/step - loss: 7.1136e-04\n",
            "Epoch 83/100\n",
            "62/62 [==============================] - 8s 131ms/step - loss: 6.9328e-04\n",
            "Epoch 84/100\n",
            "62/62 [==============================] - 8s 131ms/step - loss: 6.0512e-04\n",
            "Epoch 85/100\n",
            "62/62 [==============================] - 11s 186ms/step - loss: 7.7282e-04\n",
            "Epoch 86/100\n",
            "62/62 [==============================] - 10s 169ms/step - loss: 7.0003e-04\n",
            "Epoch 87/100\n",
            "62/62 [==============================] - 8s 135ms/step - loss: 6.5658e-04\n",
            "Epoch 88/100\n",
            "62/62 [==============================] - 8s 128ms/step - loss: 6.8374e-04\n",
            "Epoch 89/100\n",
            "62/62 [==============================] - 8s 127ms/step - loss: 7.0382e-04\n",
            "Epoch 90/100\n",
            "62/62 [==============================] - 8s 123ms/step - loss: 6.0414e-04\n",
            "Epoch 91/100\n",
            "62/62 [==============================] - 8s 123ms/step - loss: 7.2579e-04\n",
            "Epoch 92/100\n",
            "62/62 [==============================] - 8s 124ms/step - loss: 6.6616e-04\n",
            "Epoch 93/100\n",
            "62/62 [==============================] - 8s 122ms/step - loss: 6.9512e-04\n",
            "Epoch 94/100\n",
            "62/62 [==============================] - 8s 125ms/step - loss: 6.2270e-04\n",
            "Epoch 95/100\n",
            "62/62 [==============================] - 8s 122ms/step - loss: 6.8875e-04\n",
            "Epoch 96/100\n",
            "62/62 [==============================] - 8s 128ms/step - loss: 5.8752e-04\n",
            "Epoch 97/100\n",
            "62/62 [==============================] - 8s 123ms/step - loss: 5.8128e-04\n",
            "Epoch 98/100\n",
            "62/62 [==============================] - 8s 124ms/step - loss: 6.0640e-04\n",
            "Epoch 99/100\n",
            "62/62 [==============================] - 8s 122ms/step - loss: 7.1305e-04\n",
            "Epoch 100/100\n",
            "62/62 [==============================] - 7s 120ms/step - loss: 6.3255e-04\n"
          ]
        },
        {
          "output_type": "execute_result",
          "data": {
            "text/plain": [
              "<keras.callbacks.History at 0x7f5572a1f7d0>"
            ]
          },
          "metadata": {},
          "execution_count": 12
        }
      ]
    },
    {
      "cell_type": "markdown",
      "source": [
        "### Making the predictions and visualising the results"
      ],
      "metadata": {
        "id": "eCbJrTxfEnhk"
      }
    },
    {
      "cell_type": "code",
      "source": [
        "# Getting the real stock price of 2017\n",
        "dataset_test = pd.read_csv('https://raw.githubusercontent.com/aniket2702/LGM-DataScience/main/tatatest.csv')\n",
        "real_stock_price = dataset_test.iloc[:, 1:2].values\n"
      ],
      "metadata": {
        "id": "2Njjk5L67maS"
      },
      "execution_count": 13,
      "outputs": []
    },
    {
      "cell_type": "code",
      "source": [
        "# Getting the predicted stock price of 2017\n",
        "dataset_total = pd.concat((dataset_train['Open'], dataset_test['Open']), axis = 0)\n",
        "inputs = dataset_total[len(dataset_total) - len(dataset_test) - 60:].values\n",
        "inputs = inputs.reshape(-1,1)\n",
        "inputs = sc.transform(inputs)\n",
        "X_test = []\n",
        "for i in range(60, 76):\n",
        "    X_test.append(inputs[i-60:i, 0])\n",
        "X_test = np.array(X_test)\n",
        "X_test = np.reshape(X_test, (X_test.shape[0], X_test.shape[1], 1))\n",
        "predicted_stock_price = regressor.predict(X_test)\n",
        "predicted_stock_price = sc.inverse_transform(predicted_stock_price)"
      ],
      "metadata": {
        "id": "eWWVyrqY-oCi"
      },
      "execution_count": 14,
      "outputs": []
    },
    {
      "cell_type": "code",
      "source": [
        "# Visualising the results\n",
        "plt.plot(real_stock_price, color = 'red', label = 'Real TATA Stock Price')\n",
        "plt.plot(predicted_stock_price, color = 'blue', label = 'Predicted TAT Stock Price')\n",
        "plt.title('TATA Stock Price Prediction')\n",
        "plt.xlabel('Time')\n",
        "plt.ylabel('TATA Stock Price')\n",
        "plt.legend()\n",
        "plt.show()"
      ],
      "metadata": {
        "colab": {
          "base_uri": "https://localhost:8080/",
          "height": 295
        },
        "id": "T5G1WRMB-tEK",
        "outputId": "5fb58160-660f-4089-898d-9ce2db5b0b8f"
      },
      "execution_count": 15,
      "outputs": [
        {
          "output_type": "display_data",
          "data": {
            "text/plain": [
              "<Figure size 432x288 with 1 Axes>"
            ],
            "image/png": "[encoded data removed]"
          },
          "metadata": {
            "needs_background": "light"
          }
        }
      ]
    }
  ]
}